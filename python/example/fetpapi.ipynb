{
 "cells": [
  {
   "cell_type": "markdown",
   "id": "40a17e1f-53f0-4ec9-b2a4-2718acf2a59e",
   "metadata": {},
   "source": [
    "The very first step is to download and install the FETPAPI wheel (which depends on FESAPI) : pip install fetpapi"
   ]
  },
  {
   "cell_type": "markdown",
   "id": "a16222c5-064e-431d-9dae-d3d6c535a6b9",
   "metadata": {},
   "source": [
    "Once FETPAPI wheel installed, you need to first import FESAPI (required dependency) and then fetpapi it in order to be able to call its API."
   ]
  },
  {
   "cell_type": "code",
   "execution_count": 1,
   "id": "fe2772db-0f12-4ba3-bd7c-17890092dc63",
   "metadata": {},
   "outputs": [],
   "source": [
    "import fesapi\n",
    "import fetpapi"
   ]
  },
  {
   "cell_type": "markdown",
   "id": "0e0f0067-7c3e-4b4f-9da9-b6a4da7f8929",
   "metadata": {},
   "source": [
    "Let's now connect to an ETP server by defining some few initialization parameters such as the URL and the authorization"
   ]
  },
  {
   "cell_type": "code",
   "execution_count": 2,
   "id": "6d5cda5b-7627-4405-a4c0-ced8edbe9257",
   "metadata": {},
   "outputs": [],
   "source": [
    "import uuid\n",
    "\n",
    "etp_server_url = \"wss://.../\"\n",
    "authorization = \"Bearer ...\"\n",
    "initialization_params = fetpapi.InitializationParameters(str(uuid.uuid4()), etp_server_url)"
   ]
  },
  {
   "cell_type": "markdown",
   "id": "d7d5c21e-8b14-4bd6-a78f-d0bef5014e4f",
   "metadata": {},
   "source": [
    "Some ETP servers such as the OSDU RDDMS one require some extra header fields. Let's add them"
   ]
  },
  {
   "cell_type": "code",
   "execution_count": 3,
   "id": "5c3e7a41-5270-4a06-9125-af784c097f17",
   "metadata": {},
   "outputs": [],
   "source": [
    "additionalHeaderField = fetpapi.MapStringString()\n",
    "additionalHeaderField[\"data-partition-id\"] = \"osdu\"\n",
    "initialization_params.setAdditionalHandshakeHeaderFields(additionalHeaderField)"
   ]
  },
  {
   "cell_type": "markdown",
   "id": "dcfbaeab-a787-47ff-b323-437bb3b556df",
   "metadata": {},
   "source": [
    "We can now create the ETP session."
   ]
  },
  {
   "cell_type": "code",
   "execution_count": 4,
   "id": "a987ec54-86a8-424f-9539-48b87a9e8dea",
   "metadata": {},
   "outputs": [],
   "source": [
    "client_session = fetpapi.createClientSession(initialization_params, authorization)"
   ]
  },
  {
   "cell_type": "markdown",
   "id": "b564949a-03b8-4988-b4d8-c779b2f3fe2a",
   "metadata": {},
   "source": [
    "And we can finally run the session in parallel not to block the main thread"
   ]
  },
  {
   "cell_type": "code",
   "execution_count": 5,
   "id": "c6245f4b-5acd-454b-921d-99e767c36c79",
   "metadata": {},
   "outputs": [],
   "source": [
    "def start_etp_server(client_session):\n",
    "    client_session.run()\n",
    "\n",
    "from threading import Thread\n",
    "t = Thread(target=start_etp_server, args=(client_session,), daemon=True)\n",
    "t.start()"
   ]
  },
  {
   "cell_type": "markdown",
   "id": "0580e85e-0040-423c-8825-ebfb511ba26f",
   "metadata": {},
   "source": [
    "Let's wait for the connection to be effective"
   ]
  },
  {
   "cell_type": "code",
   "execution_count": null,
   "id": "b5d289e6-c699-4d88-a870-3dae2baf14ee",
   "metadata": {},
   "outputs": [],
   "source": [
    "from time import sleep, perf_counter\n",
    "start_time = perf_counter()\n",
    "while client_session.isEtpSessionClosed() and perf_counter() - start_time < 5:\n",
    "    sleep(0.25)\t\n",
    "if client_session.isEtpSessionClosed():\n",
    "    print(\"The ETP session could not be established in 5 seconds.\")\n",
    "else:\n",
    "    print(\"Now connected to ETP Server\")"
   ]
  },
  {
   "cell_type": "markdown",
   "id": "abbc43cb",
   "metadata": {},
   "source": [
    "Let's list the available dataspaces"
   ]
  },
  {
   "cell_type": "code",
   "execution_count": null,
   "id": "76b6025a",
   "metadata": {},
   "outputs": [],
   "source": [
    "all_dataspaces = client_session.getDataspaces()\n",
    "if all_dataspaces.empty() :\n",
    "    print(\"There is no dataspace on this ETP server.\")\n",
    "for dataspace in all_dataspaces:\n",
    "    print(dataspace.uri)"
   ]
  },
  {
   "cell_type": "markdown",
   "id": "01ff657b",
   "metadata": {},
   "source": [
    "Let's list the content of the first dataspace"
   ]
  },
  {
   "cell_type": "code",
   "execution_count": null,
   "id": "60b670a8",
   "metadata": {},
   "outputs": [],
   "source": [
    "dataspace = all_dataspaces.front()\n",
    "etp_context = fetpapi.ContextInfo()\n",
    "etp_context.uri = dataspace.uri\n",
    "etp_context.depth = 1\n",
    "all_resources = client_session.getResources(etp_context, fetpapi.ContextScopeKind__self);\n",
    "if all_resources.empty() :\n",
    "    print(\"There is no resource in dataspace \" + dataspace.uri)\n",
    "for resource in all_resources:\n",
    "    print(resource.uri)"
   ]
  },
  {
   "cell_type": "markdown",
   "id": "60dc75ab",
   "metadata": {},
   "source": [
    "We can now close the session"
   ]
  },
  {
   "cell_type": "code",
   "execution_count": 9,
   "id": "693c0fcf",
   "metadata": {},
   "outputs": [],
   "source": [
    "client_session.close();"
   ]
  }
 ],
 "metadata": {
  "kernelspec": {
   "display_name": "Python 3 (ipykernel)",
   "language": "python",
   "name": "python3"
  },
  "language_info": {
   "codemirror_mode": {
    "name": "ipython",
    "version": 3
   },
   "file_extension": ".py",
   "mimetype": "text/x-python",
   "name": "python",
   "nbconvert_exporter": "python",
   "pygments_lexer": "ipython3",
   "version": "3.11.5"
  }
 },
 "nbformat": 4,
 "nbformat_minor": 5
}
